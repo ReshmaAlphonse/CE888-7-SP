{
  "nbformat": 4,
  "nbformat_minor": 0,
  "metadata": {
    "colab": {
      "name": "bank_classification.ipynb",
      "provenance": [],
      "collapsed_sections": [],
      "include_colab_link": true
    },
    "kernelspec": {
      "name": "python3",
      "display_name": "Python 3"
    }
  },
  "cells": [
    {
      "cell_type": "markdown",
      "metadata": {
        "id": "view-in-github",
        "colab_type": "text"
      },
      "source": [
        "<a href=\"https://colab.research.google.com/github/ReshmaAlphonse/CE888-7-SP/blob/main/Lab3/bank_classification.ipynb\" target=\"_parent\"><img src=\"https://colab.research.google.com/assets/colab-badge.svg\" alt=\"Open In Colab\"/></a>"
      ]
    },
    {
      "cell_type": "code",
      "metadata": {
        "id": "kIQY5DBWvgyx"
      },
      "source": [
        "%matplotlib inline\n",
        "import matplotlib\n",
        "import numpy as np\n",
        "import matplotlib.pyplot as plt\n",
        "import pandas as pd\n",
        "import seaborn as sns\n",
        "import itertools\n",
        "\n",
        "from sklearn.tree import DecisionTreeRegressor\n",
        "from sklearn.ensemble import RandomForestClassifier, ExtraTreesClassifier\n",
        "from sklearn.model_selection import cross_val_score\n",
        "from sklearn.model_selection import train_test_split\n",
        "from sklearn.model_selection import GridSearchCV\n",
        "from sklearn.metrics import mean_squared_error as mse\n",
        "from sklearn.metrics import mean_absolute_error as mae\n",
        "from sklearn.metrics import accuracy_score as acc\n",
        "# from sklearn.metrics import fbeta_score, Scorer\n",
        "from sklearn.metrics import balanced_accuracy_score \n",
        "from sklearn.metrics import f1_score\n",
        "from sklearn.metrics import make_scorer, confusion_matrix\n",
        "from sklearn.dummy import DummyRegressor, DummyClassifier\n",
        "from sklearn.preprocessing import LabelEncoder"
      ],
      "execution_count": 5,
      "outputs": []
    },
    {
      "cell_type": "code",
      "metadata": {
        "id": "mwxOdX2hWhzx",
        "colab": {
          "base_uri": "https://localhost:8080/",
          "height": 435
        },
        "outputId": "af8ca84f-f490-462d-f2fb-9592a4e1b2d8"
      },
      "source": [
        "dataframe = pd.read_csv(\"https://raw.githubusercontent.com/albanda/CE888/master/lab3/bank-additional-full.csv\", delimiter = \";\")\n",
        "dataframe"
      ],
      "execution_count": 6,
      "outputs": [
        {
          "output_type": "execute_result",
          "data": {
            "text/html": [
              "<div>\n",
              "<style scoped>\n",
              "    .dataframe tbody tr th:only-of-type {\n",
              "        vertical-align: middle;\n",
              "    }\n",
              "\n",
              "    .dataframe tbody tr th {\n",
              "        vertical-align: top;\n",
              "    }\n",
              "\n",
              "    .dataframe thead th {\n",
              "        text-align: right;\n",
              "    }\n",
              "</style>\n",
              "<table border=\"1\" class=\"dataframe\">\n",
              "  <thead>\n",
              "    <tr style=\"text-align: right;\">\n",
              "      <th></th>\n",
              "      <th>age</th>\n",
              "      <th>job</th>\n",
              "      <th>marital</th>\n",
              "      <th>education</th>\n",
              "      <th>default</th>\n",
              "      <th>housing</th>\n",
              "      <th>loan</th>\n",
              "      <th>contact</th>\n",
              "      <th>month</th>\n",
              "      <th>day_of_week</th>\n",
              "      <th>duration</th>\n",
              "      <th>campaign</th>\n",
              "      <th>pdays</th>\n",
              "      <th>previous</th>\n",
              "      <th>poutcome</th>\n",
              "      <th>emp.var.rate</th>\n",
              "      <th>cons.price.idx</th>\n",
              "      <th>cons.conf.idx</th>\n",
              "      <th>euribor3m</th>\n",
              "      <th>nr.employed</th>\n",
              "      <th>y</th>\n",
              "    </tr>\n",
              "  </thead>\n",
              "  <tbody>\n",
              "    <tr>\n",
              "      <th>0</th>\n",
              "      <td>56</td>\n",
              "      <td>housemaid</td>\n",
              "      <td>married</td>\n",
              "      <td>basic.4y</td>\n",
              "      <td>no</td>\n",
              "      <td>no</td>\n",
              "      <td>no</td>\n",
              "      <td>telephone</td>\n",
              "      <td>may</td>\n",
              "      <td>mon</td>\n",
              "      <td>261</td>\n",
              "      <td>1</td>\n",
              "      <td>999</td>\n",
              "      <td>0</td>\n",
              "      <td>nonexistent</td>\n",
              "      <td>1.1</td>\n",
              "      <td>93.994</td>\n",
              "      <td>-36.4</td>\n",
              "      <td>4.857</td>\n",
              "      <td>5191.0</td>\n",
              "      <td>no</td>\n",
              "    </tr>\n",
              "    <tr>\n",
              "      <th>1</th>\n",
              "      <td>57</td>\n",
              "      <td>services</td>\n",
              "      <td>married</td>\n",
              "      <td>high.school</td>\n",
              "      <td>unknown</td>\n",
              "      <td>no</td>\n",
              "      <td>no</td>\n",
              "      <td>telephone</td>\n",
              "      <td>may</td>\n",
              "      <td>mon</td>\n",
              "      <td>149</td>\n",
              "      <td>1</td>\n",
              "      <td>999</td>\n",
              "      <td>0</td>\n",
              "      <td>nonexistent</td>\n",
              "      <td>1.1</td>\n",
              "      <td>93.994</td>\n",
              "      <td>-36.4</td>\n",
              "      <td>4.857</td>\n",
              "      <td>5191.0</td>\n",
              "      <td>no</td>\n",
              "    </tr>\n",
              "    <tr>\n",
              "      <th>2</th>\n",
              "      <td>37</td>\n",
              "      <td>services</td>\n",
              "      <td>married</td>\n",
              "      <td>high.school</td>\n",
              "      <td>no</td>\n",
              "      <td>yes</td>\n",
              "      <td>no</td>\n",
              "      <td>telephone</td>\n",
              "      <td>may</td>\n",
              "      <td>mon</td>\n",
              "      <td>226</td>\n",
              "      <td>1</td>\n",
              "      <td>999</td>\n",
              "      <td>0</td>\n",
              "      <td>nonexistent</td>\n",
              "      <td>1.1</td>\n",
              "      <td>93.994</td>\n",
              "      <td>-36.4</td>\n",
              "      <td>4.857</td>\n",
              "      <td>5191.0</td>\n",
              "      <td>no</td>\n",
              "    </tr>\n",
              "    <tr>\n",
              "      <th>3</th>\n",
              "      <td>40</td>\n",
              "      <td>admin.</td>\n",
              "      <td>married</td>\n",
              "      <td>basic.6y</td>\n",
              "      <td>no</td>\n",
              "      <td>no</td>\n",
              "      <td>no</td>\n",
              "      <td>telephone</td>\n",
              "      <td>may</td>\n",
              "      <td>mon</td>\n",
              "      <td>151</td>\n",
              "      <td>1</td>\n",
              "      <td>999</td>\n",
              "      <td>0</td>\n",
              "      <td>nonexistent</td>\n",
              "      <td>1.1</td>\n",
              "      <td>93.994</td>\n",
              "      <td>-36.4</td>\n",
              "      <td>4.857</td>\n",
              "      <td>5191.0</td>\n",
              "      <td>no</td>\n",
              "    </tr>\n",
              "    <tr>\n",
              "      <th>4</th>\n",
              "      <td>56</td>\n",
              "      <td>services</td>\n",
              "      <td>married</td>\n",
              "      <td>high.school</td>\n",
              "      <td>no</td>\n",
              "      <td>no</td>\n",
              "      <td>yes</td>\n",
              "      <td>telephone</td>\n",
              "      <td>may</td>\n",
              "      <td>mon</td>\n",
              "      <td>307</td>\n",
              "      <td>1</td>\n",
              "      <td>999</td>\n",
              "      <td>0</td>\n",
              "      <td>nonexistent</td>\n",
              "      <td>1.1</td>\n",
              "      <td>93.994</td>\n",
              "      <td>-36.4</td>\n",
              "      <td>4.857</td>\n",
              "      <td>5191.0</td>\n",
              "      <td>no</td>\n",
              "    </tr>\n",
              "    <tr>\n",
              "      <th>...</th>\n",
              "      <td>...</td>\n",
              "      <td>...</td>\n",
              "      <td>...</td>\n",
              "      <td>...</td>\n",
              "      <td>...</td>\n",
              "      <td>...</td>\n",
              "      <td>...</td>\n",
              "      <td>...</td>\n",
              "      <td>...</td>\n",
              "      <td>...</td>\n",
              "      <td>...</td>\n",
              "      <td>...</td>\n",
              "      <td>...</td>\n",
              "      <td>...</td>\n",
              "      <td>...</td>\n",
              "      <td>...</td>\n",
              "      <td>...</td>\n",
              "      <td>...</td>\n",
              "      <td>...</td>\n",
              "      <td>...</td>\n",
              "      <td>...</td>\n",
              "    </tr>\n",
              "    <tr>\n",
              "      <th>41183</th>\n",
              "      <td>73</td>\n",
              "      <td>retired</td>\n",
              "      <td>married</td>\n",
              "      <td>professional.course</td>\n",
              "      <td>no</td>\n",
              "      <td>yes</td>\n",
              "      <td>no</td>\n",
              "      <td>cellular</td>\n",
              "      <td>nov</td>\n",
              "      <td>fri</td>\n",
              "      <td>334</td>\n",
              "      <td>1</td>\n",
              "      <td>999</td>\n",
              "      <td>0</td>\n",
              "      <td>nonexistent</td>\n",
              "      <td>-1.1</td>\n",
              "      <td>94.767</td>\n",
              "      <td>-50.8</td>\n",
              "      <td>1.028</td>\n",
              "      <td>4963.6</td>\n",
              "      <td>yes</td>\n",
              "    </tr>\n",
              "    <tr>\n",
              "      <th>41184</th>\n",
              "      <td>46</td>\n",
              "      <td>blue-collar</td>\n",
              "      <td>married</td>\n",
              "      <td>professional.course</td>\n",
              "      <td>no</td>\n",
              "      <td>no</td>\n",
              "      <td>no</td>\n",
              "      <td>cellular</td>\n",
              "      <td>nov</td>\n",
              "      <td>fri</td>\n",
              "      <td>383</td>\n",
              "      <td>1</td>\n",
              "      <td>999</td>\n",
              "      <td>0</td>\n",
              "      <td>nonexistent</td>\n",
              "      <td>-1.1</td>\n",
              "      <td>94.767</td>\n",
              "      <td>-50.8</td>\n",
              "      <td>1.028</td>\n",
              "      <td>4963.6</td>\n",
              "      <td>no</td>\n",
              "    </tr>\n",
              "    <tr>\n",
              "      <th>41185</th>\n",
              "      <td>56</td>\n",
              "      <td>retired</td>\n",
              "      <td>married</td>\n",
              "      <td>university.degree</td>\n",
              "      <td>no</td>\n",
              "      <td>yes</td>\n",
              "      <td>no</td>\n",
              "      <td>cellular</td>\n",
              "      <td>nov</td>\n",
              "      <td>fri</td>\n",
              "      <td>189</td>\n",
              "      <td>2</td>\n",
              "      <td>999</td>\n",
              "      <td>0</td>\n",
              "      <td>nonexistent</td>\n",
              "      <td>-1.1</td>\n",
              "      <td>94.767</td>\n",
              "      <td>-50.8</td>\n",
              "      <td>1.028</td>\n",
              "      <td>4963.6</td>\n",
              "      <td>no</td>\n",
              "    </tr>\n",
              "    <tr>\n",
              "      <th>41186</th>\n",
              "      <td>44</td>\n",
              "      <td>technician</td>\n",
              "      <td>married</td>\n",
              "      <td>professional.course</td>\n",
              "      <td>no</td>\n",
              "      <td>no</td>\n",
              "      <td>no</td>\n",
              "      <td>cellular</td>\n",
              "      <td>nov</td>\n",
              "      <td>fri</td>\n",
              "      <td>442</td>\n",
              "      <td>1</td>\n",
              "      <td>999</td>\n",
              "      <td>0</td>\n",
              "      <td>nonexistent</td>\n",
              "      <td>-1.1</td>\n",
              "      <td>94.767</td>\n",
              "      <td>-50.8</td>\n",
              "      <td>1.028</td>\n",
              "      <td>4963.6</td>\n",
              "      <td>yes</td>\n",
              "    </tr>\n",
              "    <tr>\n",
              "      <th>41187</th>\n",
              "      <td>74</td>\n",
              "      <td>retired</td>\n",
              "      <td>married</td>\n",
              "      <td>professional.course</td>\n",
              "      <td>no</td>\n",
              "      <td>yes</td>\n",
              "      <td>no</td>\n",
              "      <td>cellular</td>\n",
              "      <td>nov</td>\n",
              "      <td>fri</td>\n",
              "      <td>239</td>\n",
              "      <td>3</td>\n",
              "      <td>999</td>\n",
              "      <td>1</td>\n",
              "      <td>failure</td>\n",
              "      <td>-1.1</td>\n",
              "      <td>94.767</td>\n",
              "      <td>-50.8</td>\n",
              "      <td>1.028</td>\n",
              "      <td>4963.6</td>\n",
              "      <td>no</td>\n",
              "    </tr>\n",
              "  </tbody>\n",
              "</table>\n",
              "<p>41188 rows × 21 columns</p>\n",
              "</div>"
            ],
            "text/plain": [
              "       age          job  marital  ... euribor3m nr.employed    y\n",
              "0       56    housemaid  married  ...     4.857      5191.0   no\n",
              "1       57     services  married  ...     4.857      5191.0   no\n",
              "2       37     services  married  ...     4.857      5191.0   no\n",
              "3       40       admin.  married  ...     4.857      5191.0   no\n",
              "4       56     services  married  ...     4.857      5191.0   no\n",
              "...    ...          ...      ...  ...       ...         ...  ...\n",
              "41183   73      retired  married  ...     1.028      4963.6  yes\n",
              "41184   46  blue-collar  married  ...     1.028      4963.6   no\n",
              "41185   56      retired  married  ...     1.028      4963.6   no\n",
              "41186   44   technician  married  ...     1.028      4963.6  yes\n",
              "41187   74      retired  married  ...     1.028      4963.6   no\n",
              "\n",
              "[41188 rows x 21 columns]"
            ]
          },
          "metadata": {
            "tags": []
          },
          "execution_count": 6
        }
      ]
    },
    {
      "cell_type": "code",
      "metadata": {
        "id": "ueJGEnEnv4aM",
        "colab": {
          "base_uri": "https://localhost:8080/"
        },
        "outputId": "395ddeb1-e2af-4d92-d236-c74113a976ce"
      },
      "source": [
        "\n",
        "dataframe_1 = dataframe\n",
        "\n",
        "# Check if there are any missing values in the dataset. If there are, drop the rows.\n",
        "print(\"Number of rows before dropping NaNs: %d\" % len(dataframe_1))\n",
        "dataframe_1 = dataframe_1.dropna()\n",
        "print(\"Number of rows after dropping NaNs: %d\" % len(dataframe_1))\n",
        "\n",
        "# drop duration\n",
        "dataframe_1 = dataframe_1.drop(['duration'], axis=1)\n",
        "\n",
        "# Label Encoder\n",
        "dataframe_1[[\"y\"]] = dataframe_1[[\"y\"]].apply(LabelEncoder().fit_transform)\n",
        "\n",
        "a = [name for name in dataframe_1.columns if dataframe_1[name].dtype == 'object']\n",
        "print (a)\n",
        "\n",
        "b = [name for name in dataframe_1.columns if dataframe_1[name].dtype != 'object']\n",
        "print (b)"
      ],
      "execution_count": 7,
      "outputs": [
        {
          "output_type": "stream",
          "text": [
            "Number of rows before dropping NaNs: 41188\n",
            "Number of rows after dropping NaNs: 41188\n",
            "['job', 'marital', 'education', 'default', 'housing', 'loan', 'contact', 'month', 'day_of_week', 'poutcome']\n",
            "['age', 'campaign', 'pdays', 'previous', 'emp.var.rate', 'cons.price.idx', 'cons.conf.idx', 'euribor3m', 'nr.employed', 'y']\n"
          ],
          "name": "stdout"
        }
      ]
    },
    {
      "cell_type": "code",
      "metadata": {
        "id": "E1tsqerUyrcv",
        "colab": {
          "base_uri": "https://localhost:8080/",
          "height": 331
        },
        "outputId": "58e8ecaa-5c00-4b6f-845a-ba98d81c0091"
      },
      "source": [
        "sns.countplot(x='y',data=dataframe_1)\n",
        "plt.show()\n",
        "\n",
        "print(dataframe_1.y.value_counts(normalize=True))"
      ],
      "execution_count": 8,
      "outputs": [
        {
          "output_type": "display_data",
          "data": {
            "image/png": "[encoded data removed]",
            "text/plain": [
              "<Figure size 432x288 with 1 Axes>"
            ]
          },
          "metadata": {
            "tags": [],
            "needs_background": "light"
          }
        },
        {
          "output_type": "stream",
          "text": [
            "0    0.887346\n",
            "1    0.112654\n",
            "Name: y, dtype: float64\n"
          ],
          "name": "stdout"
        }
      ]
    },
    {
      "cell_type": "code",
      "metadata": {
        "id": "8JcUw4dVnu7M"
      },
      "source": [
        "data_1 = dataframe_1[a]\n",
        "data_dummies = pd.get_dummies(data_1)\n",
        "X_dataframe = pd.concat([data_dummies, dataframe_1[b]], axis=1)\n",
        "\n",
        "features = ['job_admin.', 'job_blue-collar', 'job_entrepreneur',\n",
        "       'job_housemaid', 'job_management', 'job_retired',\n",
        "       'job_self-employed', 'job_services', 'job_student',\n",
        "       'job_technician', 'job_unemployed', \n",
        "       'marital_divorced', 'marital_married', 'marital_single',\n",
        "        'education_basic.4y', 'education_basic.6y',\n",
        "       'education_basic.9y', 'education_high.school',\n",
        "       'education_illiterate', 'education_professional.course',\n",
        "       'education_university.degree', 'default_no',\n",
        "        'default_yes', 'housing_no',\n",
        "       'housing_yes', 'loan_no', 'loan_yes',\n",
        "       'contact_cellular', 'contact_telephone', 'month_apr', 'month_aug',\n",
        "       'month_dec', 'month_jul', 'month_jun', 'month_mar', 'month_may',\n",
        "       'month_nov', 'month_oct', 'month_sep', 'day_of_week_fri',\n",
        "       'day_of_week_mon', 'day_of_week_thu', 'day_of_week_tue',\n",
        "       'day_of_week_wed', 'poutcome_failure', 'poutcome_nonexistent',\n",
        "       'poutcome_success', 'age','campaign', 'pdays', 'previous', 'emp.var.rate',\n",
        "       'cons.price.idx', 'cons.conf.idx', 'euribor3m', 'nr.employed']\n",
        "\n",
        "X_dataframe =  X_dataframe[features]\n",
        "y_dataframe = dataframe_1['y']\n"
      ],
      "execution_count": 9,
      "outputs": []
    },
    {
      "cell_type": "code",
      "metadata": {
        "id": "TMuZSRXTBeGM",
        "colab": {
          "base_uri": "https://localhost:8080/",
          "height": 105
        },
        "outputId": "13045354-fe3d-47f3-8fa3-1f5f5f46f979"
      },
      "source": [
        "X = X_dataframe\n",
        "y = y_dataframe\n",
        "\n",
        "X_train, X_test, y_train, y_test = train_test_split(X, y, test_size=0.20, random_state=50, stratify=y)\n",
        "display('check the shape of splitted train and test sets', X_train.shape, y_train.shape, X_test.shape, y_test.shape)"
      ],
      "execution_count": 10,
      "outputs": [
        {
          "output_type": "display_data",
          "data": {
            "application/vnd.google.colaboratory.intrinsic+json": {
              "type": "string"
            },
            "text/plain": [
              "'check the shape of splitted train and test sets'"
            ]
          },
          "metadata": {
            "tags": []
          }
        },
        {
          "output_type": "display_data",
          "data": {
            "text/plain": [
              "(32950, 56)"
            ]
          },
          "metadata": {
            "tags": []
          }
        },
        {
          "output_type": "display_data",
          "data": {
            "text/plain": [
              "(32950,)"
            ]
          },
          "metadata": {
            "tags": []
          }
        },
        {
          "output_type": "display_data",
          "data": {
            "text/plain": [
              "(8238, 56)"
            ]
          },
          "metadata": {
            "tags": []
          }
        },
        {
          "output_type": "display_data",
          "data": {
            "text/plain": [
              "(8238,)"
            ]
          },
          "metadata": {
            "tags": []
          }
        }
      ]
    },
    {
      "cell_type": "code",
      "metadata": {
        "id": "3jvh6n5W60yE",
        "colab": {
          "base_uri": "https://localhost:8080/"
        },
        "outputId": "d3c364bf-ab3c-4f97-a9e1-372ba429e7b3"
      },
      "source": [
        "\n",
        "clf = RandomForestClassifier(n_estimators=200, max_depth=8, random_state=50)\n",
        "clf.fit(X_train, y_train)\n",
        "\n",
        "scores = cross_val_score(clf, X, y, cv=10,scoring=make_scorer(f1_score))\n",
        "\n",
        "dummy_clf = DummyClassifier(strategy='stratified')\n",
        "dummy_clf.fit(X_train, y_train)\n",
        "\n",
        "dummy_scores = cross_val_score(dummy_clf, X, y, cv=10, scoring=make_scorer(f1_score))\n",
        "\n",
        "\n",
        "print(\"ACC: %0.2f +/- %0.2f\" % (scores.mean(), scores.std()))\n",
        "print(\"Dummy ACC: %0.2f +/- %0.2f\" % (dummy_scores.mean(), dummy_scores.std()))"
      ],
      "execution_count": 11,
      "outputs": [
        {
          "output_type": "stream",
          "text": [
            "ACC: 0.03 +/- 0.07\n",
            "Dummy ACC: 0.11 +/- 0.01\n"
          ],
          "name": "stdout"
        }
      ]
    },
    {
      "cell_type": "code",
      "metadata": {
        "id": "_ObgV6rnJie4",
        "colab": {
          "base_uri": "https://localhost:8080/"
        },
        "outputId": "41be5fbe-aa1d-4e14-cde6-3fac086b9a58"
      },
      "source": [
        "from sklearn.model_selection import GridSearchCV\n",
        "param_grid = {\n",
        "    'n_estimators': [100, 300],\n",
        "    'max_features':['auto', 'sqrt', 'log2']\n",
        "}\n",
        "CV_rfc = GridSearchCV(estimator=clf, param_grid=param_grid, cv= 10)\n",
        "\n",
        "CV_rfc.fit(X_train, y_train)\n",
        "print(CV_rfc.best_params_)"
      ],
      "execution_count": 12,
      "outputs": [
        {
          "output_type": "stream",
          "text": [
            "{'max_features': 'auto', 'n_estimators': 300}\n"
          ],
          "name": "stdout"
        }
      ]
    },
    {
      "cell_type": "code",
      "metadata": {
        "colab": {
          "base_uri": "https://localhost:8080/"
        },
        "id": "JClM-d1af6di",
        "outputId": "fd2d823e-c255-4a51-85f2-a282c6a72829"
      },
      "source": [
        "\n",
        "clf = RandomForestClassifier(n_estimators=400, max_features='auto', random_state=60,max_depth=6)\n",
        "\n",
        "scores = cross_val_score(clf, X_train, y_train, cv=10, scoring = make_scorer(f1_score))\n",
        "print(scores.mean())\n",
        "print(scores)\n",
        "clf.fit(X_train, y_train)\n",
        "from sklearn import metrics\n",
        "y_pred = clf.predict(X)\n",
        "print('f1_score:', metrics.f1_score(y, y_pred))"
      ],
      "execution_count": 13,
      "outputs": [
        {
          "output_type": "stream",
          "text": [
            "0.28432228322326397\n",
            "[0.25596529 0.31330472 0.23059867 0.28695652 0.23684211 0.30967742\n",
            " 0.39837398 0.25494505 0.27510917 0.28144989]\n",
            "f1_score: 0.29571183533447687\n"
          ],
          "name": "stdout"
        }
      ]
    },
    {
      "cell_type": "code",
      "metadata": {
        "colab": {
          "base_uri": "https://localhost:8080/",
          "height": 1000
        },
        "id": "STY1JumLfNj5",
        "outputId": "b46acb4c-5b50-44d4-ac11-6b31b7545c9c"
      },
      "source": [
        "importances = clf.feature_importances_\n",
        "std = np.std([tree.feature_importances_ for tree in clf.estimators_],\n",
        "             axis=0)\n",
        "indices = np.argsort(importances)[::-1]\n",
        "print(indices)\n",
        "\n",
        "# Print the feature ranking\n",
        "print(\"Feature ranking:\")\n",
        "\n",
        "for f in range(X.shape[1]):\n",
        "    print(\"%d. %s (%f)\" % (f + 1, features[indices[f]],  importances[indices[f]]))\n",
        "\n",
        "# Plot the feature importances of the forest\n",
        "fig = plt.figure()\n",
        "plt.title(\"Feature importances\")\n",
        "plt.bar(range(X.shape[1]), importances[indices],\n",
        "       color=\"r\", yerr=std[indices], align=\"center\")\n",
        "plt.xticks(range(X.shape[1]), np.array(features)[indices])\n",
        "plt.xlim([-1, X.shape[1]])\n",
        "plt.ylim([0, None])\n",
        "\n",
        "fig.set_size_inches(15,8)"
      ],
      "execution_count": 14,
      "outputs": [
        {
          "output_type": "stream",
          "text": [
            "[55 54 49 46 51 53 52 50 47 34 45 37 27 28 44 35 29 48 21 33 40 38  8  1\n",
            " 20  5 31 41 39 13 42 32 36 17 30 43 19 16 23  9 24 12  0 25  7 14 26 11\n",
            "  6 15 10  4  2  3 18 22]\n",
            "Feature ranking:\n",
            "1. nr.employed (0.201400)\n",
            "2. euribor3m (0.170040)\n",
            "3. pdays (0.109688)\n",
            "4. poutcome_success (0.109606)\n",
            "5. emp.var.rate (0.075764)\n",
            "6. cons.conf.idx (0.069976)\n",
            "7. cons.price.idx (0.057011)\n",
            "8. previous (0.022958)\n",
            "9. age (0.022713)\n",
            "10. month_mar (0.017145)\n",
            "11. poutcome_nonexistent (0.015561)\n",
            "12. month_oct (0.014114)\n",
            "13. contact_cellular (0.013828)\n",
            "14. contact_telephone (0.012421)\n",
            "15. poutcome_failure (0.011980)\n",
            "16. month_may (0.009959)\n",
            "17. month_apr (0.007304)\n",
            "18. campaign (0.004808)\n",
            "19. default_no (0.004368)\n",
            "20. month_jun (0.004025)\n",
            "21. day_of_week_mon (0.003807)\n",
            "22. month_sep (0.003636)\n",
            "23. job_student (0.003007)\n",
            "24. job_blue-collar (0.002952)\n",
            "25. education_university.degree (0.002080)\n",
            "26. job_retired (0.001941)\n",
            "27. month_dec (0.001797)\n",
            "28. day_of_week_thu (0.001514)\n",
            "29. day_of_week_fri (0.001474)\n",
            "30. marital_single (0.001413)\n",
            "31. day_of_week_tue (0.001387)\n",
            "32. month_jul (0.001315)\n",
            "33. month_nov (0.001306)\n",
            "34. education_high.school (0.001180)\n",
            "35. month_aug (0.001174)\n",
            "36. day_of_week_wed (0.001070)\n",
            "37. education_professional.course (0.001051)\n",
            "38. education_basic.9y (0.001041)\n",
            "39. housing_no (0.001034)\n",
            "40. job_technician (0.001018)\n",
            "41. housing_yes (0.001002)\n",
            "42. marital_married (0.000995)\n",
            "43. job_admin. (0.000816)\n",
            "44. loan_no (0.000801)\n",
            "45. job_services (0.000799)\n",
            "46. education_basic.4y (0.000784)\n",
            "47. loan_yes (0.000769)\n",
            "48. marital_divorced (0.000753)\n",
            "49. job_self-employed (0.000722)\n",
            "50. education_basic.6y (0.000653)\n",
            "51. job_unemployed (0.000598)\n",
            "52. job_management (0.000554)\n",
            "53. job_entrepreneur (0.000443)\n",
            "54. job_housemaid (0.000396)\n",
            "55. education_illiterate (0.000045)\n",
            "56. default_yes (0.000000)\n"
          ],
          "name": "stdout"
        },
        {
          "output_type": "display_data",
          "data": {
            "image/png": "[encoded data removed]",
            "text/plain": [
              "<Figure size 1080x576 with 1 Axes>"
            ]
          },
          "metadata": {
            "tags": [],
            "needs_background": "light"
          }
        }
      ]
    },
    {
      "cell_type": "code",
      "metadata": {
        "id": "b91XuIKnC4MU"
      },
      "source": [
        "def plot_confusion_matrix(conf_mat, classes,\n",
        "                          normalize=False,\n",
        "                          title='Confusion matrix',\n",
        "                          cmap=plt.cm.Blues):\n",
        "    \"\"\"\n",
        "    This function prints and plots the confusion matrix.\n",
        "    Normalization can be applied by setting `normalize=True`.\n",
        "    conf_mat: confusion matrix\n",
        "    classes: names of classes to be annotated\n",
        "    normalize: [True/False] whether to normalise by column\n",
        "    \"\"\"\n",
        "    if normalize:\n",
        "        conf_mat = conf_mat.astype('float') / conf_mat.sum(axis=1)[:, np.newaxis]\n",
        "        print(\"Normalized confusion matrix\")\n",
        "    else:\n",
        "        print('Confusion matrix, without normalization')\n",
        "    plt.imshow(conf_mat, interpolation='nearest', cmap=cmap)\n",
        "    plt.title(title)\n",
        "    plt.colorbar()\n",
        "    tick_marks = np.arange(len(classes))\n",
        "    plt.xticks(tick_marks, classes, rotation=45)\n",
        "    plt.yticks(tick_marks, classes)\n",
        "    for i, j in itertools.product(range(conf_mat.shape[0]), range(conf_mat.shape[1])):\n",
        "        t = \"(%.2f)\" % (conf_mat[i, j])\n",
        "    plt.tight_layout()\n",
        "    plt.ylabel('True label')\n",
        "    plt.xlabel('Predicted label')"
      ],
      "execution_count": 15,
      "outputs": []
    },
    {
      "cell_type": "code",
      "metadata": {
        "colab": {
          "base_uri": "https://localhost:8080/",
          "height": 537
        },
        "id": "HUXMEXD8e-8P",
        "outputId": "4134b514-3c2e-49de-c406-d7f8e576efdb"
      },
      "source": [
        "\n",
        "# Compute confusion matrix\n",
        "from sklearn.ensemble import RandomForestClassifier\n",
        "\n",
        "clf = RandomForestClassifier(n_estimators=1000, random_state=60,max_depth=8)\n",
        "clf.fit(X_train, y_train)\n",
        "y_pred = clf.predict(X_test)\n",
        "cnf_matrix = confusion_matrix(y_test, y_pred)\n",
        "np.set_printoptions(precision=2)\n",
        "print(confusion_matrix(y_test,y_pred))\n",
        "print(metrics.classification_report(y_test,y_pred))\n",
        "print(metrics.accuracy_score(y_test, y_pred))\n",
        "# Plot non-normalized confusion matrix\n",
        "plt.figure()\n",
        "plot_confusion_matrix(cnf_matrix, classes=range(len(set(y))), normalize=True,\n",
        "                      title='Confusion matrix')\n",
        "\n",
        "#plt.savefig(\"confusion.pdataframe\", bbox_inches='tight')"
      ],
      "execution_count": 16,
      "outputs": [
        {
          "output_type": "stream",
          "text": [
            "[[7210  100]\n",
            " [ 724  204]]\n",
            "              precision    recall  f1-score   support\n",
            "\n",
            "           0       0.91      0.99      0.95      7310\n",
            "           1       0.67      0.22      0.33       928\n",
            "\n",
            "    accuracy                           0.90      8238\n",
            "   macro avg       0.79      0.60      0.64      8238\n",
            "weighted avg       0.88      0.90      0.88      8238\n",
            "\n",
            "0.8999757222626851\n",
            "Normalized confusion matrix\n"
          ],
          "name": "stdout"
        },
        {
          "output_type": "display_data",
          "data": {
            "image/png": "[encoded data removed]",
            "text/plain": [
              "<Figure size 432x288 with 2 Axes>"
            ]
          },
          "metadata": {
            "tags": [],
            "needs_background": "light"
          }
        }
      ]
    }
  ]
}